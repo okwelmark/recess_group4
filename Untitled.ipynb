{
 "cells": [
  {
   "cell_type": "code",
   "execution_count": 1,
   "id": "d3dc1713-1b28-4fb1-b30d-a5f3b7106035",
   "metadata": {},
   "outputs": [
    {
     "name": "stdout",
     "output_type": "stream",
     "text": [
      "         V1        V2        V3  Amount Withdrawn Class  Year  Month  Day  \\\n",
      "0 -1.359807 -0.072781  2.536347            149.62     F  2024      6    7   \n",
      "1  1.191857  0.266151  0.166480              2.69     F  2024      6    7   \n",
      "2 -0.573114 -1.340163  1.773209            378.66     F  2024      6    7   \n",
      "3 -0.966272 -0.185226  1.792993            123.50     F  2024      6    7   \n",
      "4 -1.158233  0.877737  1.548718             69.99     F  2024      6    7   \n",
      "\n",
      "   Hour  Minute  Second  \n",
      "0    11       0      44  \n",
      "1    11       1      43  \n",
      "2    11       2       5  \n",
      "3    11       2      21  \n",
      "4    11       3      13  \n"
     ]
    },
    {
     "name": "stderr",
     "output_type": "stream",
     "text": [
      "C:\\Users\\hp\\AppData\\Local\\Temp\\ipykernel_9400\\1401514206.py:40: FutureWarning: A value is trying to be set on a copy of a DataFrame or Series through chained assignment using an inplace method.\n",
      "The behavior will change in pandas 3.0. This inplace method will never work because the intermediate object on which we are setting values always behaves as a copy.\n",
      "\n",
      "For example, when doing 'df[col].method(value, inplace=True)', try using 'df.method({col: value}, inplace=True)' or df[col] = df[col].method(value) instead, to perform the operation inplace on the original object.\n",
      "\n",
      "\n",
      "  df[column].fillna(df[column].mean(), inplace=True)\n"
     ]
    }
   ],
   "source": [
    "import pandas as pd\n",
    "from datetime import datetime\n",
    "\n",
    "# Sample data\n",
    "data = {\n",
    "    \"Date Time\": [\"07/06/2024 11:00:44\", \"07062024 11:01:43\", \"07/06/2024 11:02:05\", \"07062024 11:02:21\", \"07/06/2024 11:03:13\"],\n",
    "    \"V1\": [-1.359807, 1.191857, None, -0.966272, -1.158233],\n",
    "    \"V2\": [-0.072781, 0.266151, -1.340163, -0.185226, 0.877737],\n",
    "    \"V3\": [2.536347, 0.166480, 1.773209, 1.792993, 1.548718],\n",
    "    \"Amount Withdrawn\": [149.62, 2.69, 378.66, 123.50, 69.99],\n",
    "    \"Class\": [\"F\", \"F\", \"F\", \"F\", \"F\"]\n",
    "}\n",
    "\n",
    "df = pd.DataFrame(data)\n",
    "\n",
    "# Function to standardize datetime format\n",
    "def parse_date(date_str):\n",
    "    try:\n",
    "        return datetime.strptime(date_str, \"%d/%m/%Y %H:%M:%S\")\n",
    "    except ValueError:\n",
    "        return datetime.strptime(date_str, \"%d%m%Y %H:%M:%S\")\n",
    "\n",
    "# Apply the function to the Date Time column\n",
    "df[\"Date Time\"] = df[\"Date Time\"].apply(parse_date)\n",
    "\n",
    "# Extract date and time components\n",
    "df[\"Year\"] = df[\"Date Time\"].dt.year\n",
    "df[\"Month\"] = df[\"Date Time\"].dt.month\n",
    "df[\"Day\"] = df[\"Date Time\"].dt.day\n",
    "df[\"Hour\"] = df[\"Date Time\"].dt.hour\n",
    "df[\"Minute\"] = df[\"Date Time\"].dt.minute\n",
    "df[\"Second\"] = df[\"Date Time\"].dt.second\n",
    "\n",
    "# Drop the original Date Time column\n",
    "df.drop(\"Date Time\", axis=1, inplace=True)\n",
    "\n",
    "# Handling missing values by filling them with the mean of their respective columns\n",
    "for column in df.columns:\n",
    "    if df[column].isnull().sum() > 0:\n",
    "        df[column].fillna(df[column].mean(), inplace=True)\n",
    "\n",
    "print(df)\n"
   ]
  },
  {
   "cell_type": "code",
   "execution_count": null,
   "id": "9a165ac0-05fa-4315-b2f1-ad59ec94fb85",
   "metadata": {},
   "outputs": [],
   "source": []
  }
 ],
 "metadata": {
  "kernelspec": {
   "display_name": "Python 3 (ipykernel)",
   "language": "python",
   "name": "python3"
  },
  "language_info": {
   "codemirror_mode": {
    "name": "ipython",
    "version": 3
   },
   "file_extension": ".py",
   "mimetype": "text/x-python",
   "name": "python",
   "nbconvert_exporter": "python",
   "pygments_lexer": "ipython3",
   "version": "3.10.4"
  }
 },
 "nbformat": 4,
 "nbformat_minor": 5
}
