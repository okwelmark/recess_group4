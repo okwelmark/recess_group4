{
 "cells": [
  {
   "cell_type": "code",
   "execution_count": 3,
   "id": "6acd9181-b5de-4cc8-bcf2-e613b8529978",
   "metadata": {},
   "outputs": [
    {
     "name": "stderr",
     "output_type": "stream",
     "text": [
      "C:\\Users\\hp\\AppData\\Local\\Temp\\ipykernel_18604\\2200527052.py:18: FutureWarning: DataFrame.fillna with 'method' is deprecated and will raise in a future version. Use obj.ffill() or obj.bfill() instead.\n",
      "  df.fillna(method='ffill', inplace=True)  # Forward fill as an example\n"
     ]
    },
    {
     "name": "stdout",
     "output_type": "stream",
     "text": [
      "         V1        V2        V3        V4        V5        V6        V7  \\\n",
      "0 -0.887390 -0.213894  1.609623  0.806995 -0.307760  0.168282  0.157887   \n",
      "1  0.981398  0.061419 -0.670185  0.059676  0.028180 -0.251818 -0.214395   \n",
      "2  0.981398 -1.243382  0.875486  0.004732 -0.446810  1.200207  0.803138   \n",
      "3 -0.599172 -0.305232  0.894518 -0.994159 -0.031130  0.773516  0.155561   \n",
      "4 -0.739761  0.558207  0.659526  0.023419 -0.365844 -0.114330  0.571023   \n",
      "\n",
      "         V8        V9       V10  ...       V28      Hour       Day     Month  \\\n",
      "0  0.175123  0.438257  0.030433  ... -0.010147  0.352258 -0.778555 -0.733324   \n",
      "1  0.158525 -0.281396 -0.240129  ...  0.111940  0.352258 -0.778555 -0.733324   \n",
      "2  0.356993 -1.744881 -0.240129  ... -0.142203  0.352258 -0.778555 -0.733324   \n",
      "3  0.515401 -1.596548 -0.122547  ...  0.271413  0.352258 -0.778555 -0.733324   \n",
      "4 -0.275626  0.965844  0.725582  ...  0.795885  0.352258 -0.778555 -0.733324   \n",
      "\n",
      "   Year  DayOfWeek  Feature_Combination  High_Amount_Withdrawn  \\\n",
      "0   0.0   1.222773             0.099336               2.386916   \n",
      "1   0.0   1.222773             0.360275              -0.418951   \n",
      "2   0.0   1.222773             0.360484               2.386916   \n",
      "3   0.0   1.222773            -0.132305               2.386916   \n",
      "4   0.0   1.222773             0.181749              -0.418951   \n",
      "\n",
      "   Amount Withdrawn  Class   \n",
      "0            149.62       0  \n",
      "1              2.69       0  \n",
      "2            378.66       0  \n",
      "3            123.50       0  \n",
      "4             69.99       0  \n",
      "\n",
      "[5 rows x 37 columns]\n"
     ]
    }
   ],
   "source": [
    "import pandas as pd\n",
    "import numpy as np\n",
    "\n",
    "# Load your dataset\n",
    "df = pd.read_csv('card_data.csv')\n",
    "\n",
    "# Convert Date Time to datetime type\n",
    "df['Date Time'] = pd.to_datetime(df['Date Time'], format='%d/%m/%Y %H:%M:%S', errors='coerce')\n",
    "\n",
    "# Extract time-based features\n",
    "df['Hour'] = df['Date Time'].dt.hour\n",
    "df['Day'] = df['Date Time'].dt.day\n",
    "df['Month'] = df['Date Time'].dt.month\n",
    "df['Year'] = df['Date Time'].dt.year\n",
    "df['DayOfWeek'] = df['Date Time'].dt.dayofweek\n",
    "\n",
    "# Fill or handle missing values (if necessary)\n",
    "df.fillna(method='ffill', inplace=True)  # Forward fill as an example\n",
    "\n",
    "# Create new features from existing ones\n",
    "# For example, a feature that combines multiple features\n",
    "df['Feature_Combination'] = df[['V1', 'V2', 'V3']].sum(axis=1)\n",
    "\n",
    "# Example: Create a feature that represents whether the amount withdrawn is high or low\n",
    "df['High_Amount_Withdrawn'] = df['Amount Withdrawn'].apply(lambda x: 1 if x > 100 else 0)\n",
    "\n",
    "# Convert categorical feature to numeric (if necessary)\n",
    "df['Class '] = df['Class '].map({'F': 0, 'M': 1})\n",
    "\n",
    "# Drop the original Date Time column if not needed\n",
    "df.drop(columns=['Date Time'], inplace=True)\n",
    "\n",
    "# Example: Normalize/Standardize features\n",
    "from sklearn.preprocessing import StandardScaler\n",
    "scaler = StandardScaler()\n",
    "features = df.drop(columns=['Amount Withdrawn', 'Class '])  # Exclude target variable\n",
    "scaled_features = scaler.fit_transform(features)\n",
    "scaled_df = pd.DataFrame(scaled_features, columns=features.columns)\n",
    "\n",
    "# Add the target variable back\n",
    "df = pd.concat([scaled_df, df[['Amount Withdrawn', 'Class ']]], axis=1)\n",
    "\n",
    "# Save the processed data\n",
    "df.to_csv('processed_data.csv', index=False)\n",
    "\n",
    "print(df.head())\n"
   ]
  },
  {
   "cell_type": "code",
   "execution_count": null,
   "id": "40a40ffc-d97a-47e0-a233-ad67e509419e",
   "metadata": {},
   "outputs": [],
   "source": []
  }
 ],
 "metadata": {
  "kernelspec": {
   "display_name": "Python 3 (ipykernel)",
   "language": "python",
   "name": "python3"
  },
  "language_info": {
   "codemirror_mode": {
    "name": "ipython",
    "version": 3
   },
   "file_extension": ".py",
   "mimetype": "text/x-python",
   "name": "python",
   "nbconvert_exporter": "python",
   "pygments_lexer": "ipython3",
   "version": "3.10.4"
  }
 },
 "nbformat": 4,
 "nbformat_minor": 5
}
